{
 "cells": [
  {
   "cell_type": "markdown",
   "metadata": {},
   "source": [
    "\n",
    "\n",
    "# Data Manipulation with the `dplyr` Package\n",
    "\n",
    "## Overview\n",
    "\n",
    "Rather than describing the nitty gritty details of writing R code, I'd like you to get started at immediately writing R code.\n",
    "\n",
    "As most of you are data scientists/data enthusiasts, I will showcase one of the most useful data manipulation packages in R, `dplyr`.\n",
    "At the end of this session, you will have learned:\n",
    "\n",
    "* How to manipulate data quickly with `dplyr` using a very intuitive _\"grammar\"_\n",
    "* How to use `dplyr` to perform common exploratory analysis data manipulation procedures\n",
    "* How to apply your own custom functions to group manipulations `dplyr` with `mutate()`, `summarise()` and `do()`\n",
    "* Connect to remote databases to work with larger than memory datasets\n",
    "\n",
    "## Why use dplyr?\n",
    "### The Grammar of Data Manipulation\n",
    "\n",
    "* `dplyr` is currently the [most downloaded package](https://www.rdocumentation.org/packages/dplyr/versions/0.5.0?) from CRAN\n",
    "* `dplyr` makes data manipulation easier by providing a few functions for the most common tasks and procedures\n",
    "* `dplyr` achieves remarkable speed-up gains by using a C++ backend\n",
    "* `dplyr` has multiple backends for working with data stored in various sources: SQLite, MySQL, bigquery, SQL Server, and many more\n",
    "* `dplyr` was inspired to give data manipulation a simple, cohesive grammar (similar philosophy to `ggplot` - grammar of graphics)\n",
    "* `dplyr` has inspired many new packages, which now adopt it's easy to understand syntax.\n",
    "* The recent packages `dplyrXdf` and `SparkR/sparklyr` brings much of the same functionality of `dplyr` to `XDF`s data and Spark `DataFrames`\n",
    "\n",
    "\n",
    "## Tidy Data and Happier Coding\n",
    "### Premature Optimization\n",
    "\n",
    "![](https://imgs.xkcd.com/comics/the_general_problem.png)\n",
    "\n",
    "+ For a dats scientist, the most important parameter to optimize in a data science development cycle is YOUR time\n",
    "+ It is therefore important to be able to write efficient code, quickly\n",
    "+ Goals: writing fast code that is: portable, platform invariant, easy to understand, and easy to debug\n",
    "    - __Be serious about CReUse__!\n",
    "\n",
    "## Manipulation verbs\n",
    "\n",
    "`filter`\n",
    "\n",
    ":    select rows based on matching criteria\n",
    "\n",
    "`slice`\n",
    "\n",
    ":    select rows by number\n",
    "\n",
    "`select`\n",
    "\n",
    ":    select columns by column names\n",
    "\n",
    "`arrange`\n",
    "\n",
    ":    reorder rows by column values\n",
    "\n",
    "`mutate`\n",
    "\n",
    ":    add new variables based on transformations of existing variables\n",
    "\n",
    "`transmute`\n",
    "\n",
    ":    transform and drop other variables\n",
    "\n",
    "\n",
    "\n",
    "## Aggregation verbs\n",
    "\n",
    "`group_by`\n",
    "\n",
    ":    identify grouping variables for calculating groupwise summary statistics\n",
    "\n",
    "\n",
    "`count`\n",
    "\n",
    ":    count the number of records per group\n",
    "\n",
    "\n",
    "`summarise` | `summarize`\n",
    "\n",
    ":    calculate one or more summary functions per group, returning one row of results per group (or one for the entire dataset)\n",
    "\n",
    "## NYC Taxi Data\n",
    "### Data for Class\n",
    "\n",
    "* The data we will be examining in this module is dervided from the [NYC Taxi and Limousine Commission](http://www.nyc.gov/html/tlc/html/home/home.shtml)\n",
    "* Data contains taxi trips in NYC, and includes spatial features (pickup and dropoff neighborhoods), temporal features, and monetary features (fare and tip amounts)\n",
    "* The dataset for this module is saved as an _rds_ file in a public facing Azure storage blob\n",
    "* An _rds_ file is a compressed, serialized R object\n",
    "* Save an object to _rds_ by using the `saveRDS` function; read an _rds_ object with the `readRDS` object\n",
    "\n",
    "## Viewing Data\n",
    "### tibble\n",
    "\n",
    "* `dplyr` includes a wrapper called `tbl_df` that adds an additional class attribute onto `data.frames` that provides some better data manipulation aesthetics (there's now a dedicated package [`tibble`](www.github.com/hadley/tibble) for this wrapper and it's class)\n",
    "* Most noticeable differential between `tbl_df` and `data.frame`s is the console output: `tbl_df`s will only print what the current R console window can display\n",
    "* Can change the default setting for number of displayed columns by changing the options parameter: `options(dplyr.width = Inf)`\n",
    "\n"
   ]
  },
  {
   "cell_type": "code",
   "execution_count": null,
   "metadata": {
    "autoscroll": false,
    "collapsed": true
   },
   "outputs": [],
   "source": [
    "library(dplyr)\n",
    "library(stringr)\n",
    "taxi_url <- \"http://alizaidi.blob.core.windows.net/training/trainingData/manhattan_df.rds\"\n",
    "taxi_df  <- readRDS(gzcon(url(taxi_url)))\n",
    "(taxi_df <- tbl_df(taxi_df))"
   ]
  },
  {
   "cell_type": "markdown",
   "metadata": {},
   "source": [
    "\n",
    "# Filtering and Reordering Data\n",
    "\n",
    "## Subsetting Data\n",
    "\n",
    "* `dplyr` makes subsetting by rows very easy\n",
    "* The `filter` verb takes conditions for filtering rows based on conditions\n",
    "* **every** `dplyr` function uses a data.frame/tbl as it's first argument\n",
    "* Additional conditions are passed as new arguments (no need to make an insanely complicated expression, split em up!)\n",
    "\n",
    "## Filter\n",
    "\n"
   ]
  },
  {
   "cell_type": "code",
   "execution_count": null,
   "metadata": {
    "autoscroll": false,
    "collapsed": true
   },
   "outputs": [],
   "source": [
    "filter(taxi_df,\n",
    "       dropoff_dow %in% c(\"Fri\", \"Sat\", \"Sun\"),\n",
    "       tip_amount > 1)"
   ]
  },
  {
   "cell_type": "markdown",
   "metadata": {},
   "source": [
    "\n",
    "## Exercise\n",
    "\n",
    "Your turn:\n",
    "\n",
    "* How many observations started in Harlem?\n",
    "  - pick both sides of Harlem, including east harlem\n",
    "  - *hint*: it might be useful to use the `str_detect` function from `stringr`\n",
    "* How many observations that started in Harlem ended in the Financial District?\n",
    "\n",
    "## Solution\n",
    "\n"
   ]
  },
  {
   "cell_type": "code",
   "execution_count": null,
   "metadata": {
    "autoscroll": false,
    "collapsed": true
   },
   "outputs": [],
   "source": [
    "library(stringr)\n",
    "table(taxi_df$pickup_nhood)\n",
    "harlem_pickups <- filter(taxi_df, str_detect(pickup_nhood, \"Harlem\"))\n",
    "harlem_pickups\n",
    "# uncomment the line below (ctrl+shift+c) and filter harlem_pickups on Financial District\n",
    "# how many rows?\n",
    "# fidi <- filter(harlem_pickups, ...)"
   ]
  },
  {
   "cell_type": "markdown",
   "metadata": {},
   "source": [
    "\n",
    "## Select a set of columns\n",
    "\n",
    "* You can use the `select()` verb to specify which columns of a dataset you want\n",
    "* This is similar to the `keep` option in SAS's data step.\n",
    "* Use a colon `:` to select all the columns between two variables (inclusive)\n",
    "* Use `contains` to take any columns containing a certain word/phrase/character\n",
    "\n",
    "## Select Example\n",
    "\n"
   ]
  },
  {
   "cell_type": "code",
   "execution_count": null,
   "metadata": {
    "autoscroll": false,
    "collapsed": true
   },
   "outputs": [],
   "source": [
    "select(taxi_df, pickup_nhood, dropoff_nhood,\n",
    "       fare_amount, dropoff_hour, trip_distance)"
   ]
  },
  {
   "cell_type": "markdown",
   "metadata": {},
   "source": [
    "\n",
    "## Select: Other Options\n",
    "\n",
    "starts_with(x, ignore.case = FALSE)\n",
    "\n",
    ":    name starts with `x`\n",
    "\n",
    "ends_with(x, ignore.case = FALSE)\n",
    "\n",
    ":    name ends with `x`\n",
    "\n",
    "matches(x, ignore.case = FALSE)\n",
    "\n",
    ":    selects all variables whose name matches the regular expression `x`\n",
    "\n",
    "num_range(\"V\", 1:5, width = 1)\n",
    "\n",
    ":    selects all variables (numerically) from `V1` to `V5`.\n",
    "\n",
    "* You can also use a `-` to drop variables.\n",
    "\n",
    "## Reordering Data\n",
    "\n",
    "* You can reorder your dataset based on conditions using the `arrange()` verb\n",
    "* Use the `desc` function to sort in descending order rather than ascending order (default)\n",
    "\n",
    "## Arrange\n",
    "\n"
   ]
  },
  {
   "cell_type": "code",
   "execution_count": null,
   "metadata": {
    "autoscroll": false,
    "collapsed": true
   },
   "outputs": [],
   "source": [
    "select(arrange(taxi_df, desc(fare_amount), pickup_nhood),\n",
    "       fare_amount, pickup_nhood)\n",
    "\n",
    "head(select(arrange(taxi_df, desc(fare_amount), pickup_nhood),\n",
    "       fare_amount, pickup_nhood), 10)"
   ]
  },
  {
   "cell_type": "markdown",
   "metadata": {},
   "source": [
    "\n",
    "\n",
    "\n",
    "\n",
    "## Exercise\n",
    "Use `arrange()` to  sort on the basis of `tip_amount`, `dropoff_nhood`, and `pickup_dow`, with descending order for tip amount\n",
    "\n",
    "## Summary\n",
    "\n",
    "filter\n",
    "\n",
    ":    Extract subsets of rows. See also `slice()`\n",
    "\n",
    "select\n",
    "\n",
    ":    Extract subsets of columns. See also `rename()`\n",
    "\n",
    "arrange\n",
    "\n",
    ":    Sort your data\n",
    "\n",
    "# Data Aggregations and Transformations\n",
    "\n",
    "## Transformations\n",
    "\n",
    "* The `mutate()` verb can be used to make new columns\n",
    "\n"
   ]
  },
  {
   "cell_type": "code",
   "execution_count": null,
   "metadata": {
    "autoscroll": false,
    "collapsed": true
   },
   "outputs": [],
   "source": [
    "taxi_df <- mutate(taxi_df, tip_pct = tip_amount/fare_amount)\n",
    "select(taxi_df, tip_pct, fare_amount, tip_amount)\n",
    "transmute(taxi_df, tip_pct = tip_amount/fare_amount)"
   ]
  },
  {
   "cell_type": "markdown",
   "metadata": {},
   "source": [
    "\n",
    "## Summarise Data by Groups\n",
    "\n",
    "* The `group_by` verb creates a grouping by a categorical variable\n",
    "* Functions can be placed inside `summarise` to create summary functions\n",
    "\n"
   ]
  },
  {
   "cell_type": "code",
   "execution_count": null,
   "metadata": {
    "autoscroll": false,
    "collapsed": true
   },
   "outputs": [],
   "source": [
    "grouped_taxi <- group_by(taxi_df, dropoff_nhood)\n",
    "class(grouped_taxi)\n",
    "grouped_taxi"
   ]
  },
  {
   "cell_type": "code",
   "execution_count": null,
   "metadata": {
    "autoscroll": false,
    "collapsed": true
   },
   "outputs": [],
   "source": [
    "summarize(group_by(taxi_df, dropoff_nhood),\n",
    "          count = n(), ave_tip_pct = mean(tip_pct))"
   ]
  },
  {
   "cell_type": "markdown",
   "metadata": {},
   "source": [
    "\n",
    "## Group By Neighborhoods Example\n",
    "\n"
   ]
  },
  {
   "cell_type": "code",
   "execution_count": null,
   "metadata": {
    "autoscroll": false,
    "collapsed": true
   },
   "outputs": [],
   "source": [
    "summarise(group_by(taxi_df, pickup_nhood, dropoff_nhood),\n",
    "          count = n(), ave_tip_pct = mean(tip_pct))"
   ]
  },
  {
   "cell_type": "markdown",
   "metadata": {},
   "source": [
    "\n",
    "## Chaining/Piping\n",
    "\n",
    "* A `dplyr` installation includes the `magrittr` package as a dependency\n",
    "* The `magrittr` package includes a pipe operator that allows you to pass the current dataset to another function\n",
    "* This makes interpreting a nested sequence of operations much easier to understand\n",
    "\n",
    "## Standard Code\n",
    "\n",
    "* Code is executed inside-out.\n",
    "* Let's arrange the above average tips in descending order, and only look at the locations that had at least 10 dropoffs and pickups.\n",
    "\n"
   ]
  },
  {
   "cell_type": "code",
   "execution_count": null,
   "metadata": {
    "autoscroll": false,
    "collapsed": true
   },
   "outputs": [],
   "source": [
    "filter(arrange(summarise(group_by(taxi_df, pickup_nhood, dropoff_nhood), count = n(), ave_tip_pct = mean(tip_pct)), desc(ave_tip_pct)), count >= 10)"
   ]
  },
  {
   "cell_type": "markdown",
   "metadata": {},
   "source": [
    "\n",
    "---\n",
    "\n",
    "![damn](http://www.ohmagif.com/wp-content/uploads/2015/01/lemme-go-out-for-a-walk-oh-no-shit.gif)\n",
    "\n",
    "## Reformatted\n",
    "\n"
   ]
  },
  {
   "cell_type": "code",
   "execution_count": null,
   "metadata": {
    "autoscroll": false,
    "collapsed": true
   },
   "outputs": [],
   "source": [
    "filter(\n",
    "  arrange(\n",
    "    summarise(\n",
    "      group_by(taxi_df,\n",
    "               pickup_nhood, dropoff_nhood),\n",
    "      count = n(),\n",
    "      ave_tip_pct = mean(tip_pct)),\n",
    "    desc(ave_tip_pct)),\n",
    "  count >= 10)"
   ]
  },
  {
   "cell_type": "markdown",
   "metadata": {},
   "source": [
    "\n",
    "## Magrittr\n",
    "\n",
    "![](https://github.com/smbache/magrittr/raw/master/inst/logo.png)\n",
    "\n",
    "* Inspired by unix `|`, and F# forward pipe `|>`, `magrittr` introduces the funny character (`%>%`, the _then_ operator)\n",
    "* `%>%` pipes the object on the left hand side to the first argument of the function on the right hand side\n",
    "* Every function in `dplyr` has a slot for `data.frame/tbl` as it's first argument, so this works beautifully!\n",
    "\n",
    "## Put that Function in Your Pipe and...\n",
    "\n"
   ]
  },
  {
   "cell_type": "code",
   "execution_count": null,
   "metadata": {
    "autoscroll": false,
    "collapsed": true
   },
   "outputs": [],
   "source": [
    "taxi_df %>%\n",
    "  group_by(pickup_nhood, dropoff_nhood) %>%\n",
    "  summarize(count = n(),\n",
    "            ave_tip_pct = mean(tip_pct)) %>%\n",
    "  arrange(desc(ave_tip_pct)) %>%\n",
    "  filter(count >= 10)"
   ]
  },
  {
   "cell_type": "markdown",
   "metadata": {},
   "source": [
    "\n",
    "---\n",
    "\n",
    "![hellyeah](http://i.giphy.com/lF1XZv45kIwMw.gif)\n",
    "\n",
    "## Pipe + group_by()\n",
    "\n",
    "* The pipe operator is very helpful for group by summaries\n",
    "* Let's calculate average tip amount, and average trip distance, controlling for dropoff day of the week and dropoff location\n",
    "* First filter with the vector `manhattan_hoods`\n",
    "\n",
    "---\n",
    "\n"
   ]
  },
  {
   "cell_type": "code",
   "execution_count": null,
   "metadata": {
    "autoscroll": false,
    "collapsed": true
   },
   "outputs": [],
   "source": [
    "mht_url <- \"http://alizaidi.blob.core.windows.net/training/manhattan.rds\"\n",
    "manhattan_hoods <- readRDS(gzcon(url(mht_url)))\n",
    "taxi_df %>%\n",
    "  filter(pickup_nhood %in% manhattan_hoods,\n",
    "         dropoff_nhood %in% manhattan_hoods) %>%\n",
    "  group_by(dropoff_nhood, pickup_nhood) %>%\n",
    "  summarize(ave_tip = mean(tip_pct),\n",
    "            ave_dist = mean(trip_distance)) %>%\n",
    "  filter(ave_dist > 3, ave_tip > 0.05)"
   ]
  },
  {
   "cell_type": "markdown",
   "metadata": {},
   "source": [
    "\n",
    "## Pipe and Plot\n",
    "\n",
    "Piping is not limited to dplyr functions, can be used everywhere!\n",
    "\n"
   ]
  },
  {
   "cell_type": "code",
   "execution_count": null,
   "metadata": {
    "Rmd_chunk_options": "eval = FALSE, fig.height = 8, fig.width = 8",
    "autoscroll": false,
    "collapsed": true
   },
   "outputs": [],
   "source": [
    "library(ggplot2)\n",
    "taxi_df %>%\n",
    "  filter(pickup_nhood %in% manhattan_hoods,\n",
    "         dropoff_nhood %in% manhattan_hoods) %>%\n",
    "  group_by(dropoff_nhood, pickup_nhood) %>%\n",
    "  summarize(ave_tip = mean(tip_pct),\n",
    "            ave_dist = mean(trip_distance)) %>%\n",
    "  filter(ave_dist > 3, ave_tip > 0.05) %>%\n",
    "  ggplot(aes(x = pickup_nhood, y = dropoff_nhood)) +\n",
    "    geom_tile(aes(fill = ave_tip), colour = \"white\") +\n",
    "    theme_bw() +\n",
    "    theme(axis.text.x = element_text(angle = 45, hjust = 1),\n",
    "          legend.position = 'bottom') +\n",
    "    scale_fill_gradient(low = \"white\", high = \"steelblue\")\n",
    ""
   ]
  },
  {
   "cell_type": "markdown",
   "metadata": {},
   "source": [
    "\n",
    "---\n",
    "\n"
   ]
  },
  {
   "cell_type": "code",
   "execution_count": null,
   "metadata": {
    "Rmd_chunk_options": "echo = FALSE, fig.height = 8, fig.width = 8",
    "autoscroll": false,
    "collapsed": true
   },
   "outputs": [],
   "source": [
    "library(ggplot2)\n",
    "taxi_df %>%\n",
    "  filter(pickup_nhood %in% manhattan_hoods,\n",
    "         dropoff_nhood %in% manhattan_hoods) %>%\n",
    "  group_by(dropoff_nhood, pickup_nhood) %>%\n",
    "  summarize(ave_tip = mean(tip_pct),\n",
    "            ave_dist = mean(trip_distance)) %>%\n",
    "  filter(ave_dist > 3, ave_tip > 0.05) %>%\n",
    "  ggplot(aes(x = pickup_nhood, y = dropoff_nhood)) +\n",
    "    geom_tile(aes(fill = ave_tip), colour = \"white\") +\n",
    "    theme_bw() +\n",
    "    theme(axis.text.x = element_text(angle = 45, hjust = 1),\n",
    "          legend.position = 'bottom') +\n",
    "    scale_fill_gradient(low = \"white\", high = \"steelblue\")\n",
    ""
   ]
  },
  {
   "cell_type": "markdown",
   "metadata": {},
   "source": [
    "\n",
    "\n",
    "## Piping to other arguments\n",
    "\n",
    "* Although `dplyr` takes great care to make it particularly amenable to piping, other functions may not reserve the first argument to the object you are passing into it.\n",
    "* You can use the special `.` placeholder to specify where the object should enter\n",
    "\n"
   ]
  },
  {
   "cell_type": "code",
   "execution_count": null,
   "metadata": {
    "autoscroll": false,
    "collapsed": true
   },
   "outputs": [],
   "source": [
    "taxi_df %>%\n",
    "  filter(pickup_nhood %in% manhattan_hoods,\n",
    "         dropoff_nhood %in% manhattan_hoods) %>%\n",
    "  group_by(dropoff_nhood, pickup_nhood) %>%\n",
    "  summarize(ave_tip = mean(tip_pct),\n",
    "            ave_dist = mean(trip_distance)) %>%\n",
    "  lm(ave_tip ~ ave_dist, data = .) -> taxi_model\n",
    "summary(taxi_model)"
   ]
  },
  {
   "cell_type": "markdown",
   "metadata": {},
   "source": [
    "\n",
    "## Exercise\n",
    "\n",
    "Your turn:\n",
    "\n",
    "* Use the pipe operator to group by day of week and dropoff neighborhood\n",
    "* Filter to Manhattan neighborhoods\n",
    "* Make tile plot with average fare amount in dollars as the fill\n",
    "\n",
    "# Functional Programming\n",
    "\n",
    "## Creating Functional Pipelines\n",
    "### Too Many Pipes?\n",
    "\n",
    "![whoaaaaaaaaahhhhh](http://www.ohmagif.com/wp-content/uploads/2015/02/the-scariest-electrical-repair-ever.gif)\n",
    "\n",
    "---\n",
    "\n",
    "### Reusable code\n",
    "\n",
    "* The examples above create a rather messy pipeline operation\n",
    "* Can be very hard to debug\n",
    "* The operation is pretty readable, but lacks reusability\n",
    "* Since R is a functional language, we benefit by splitting these operations into functions and calling them separately\n",
    "* This allows resuability; don't write the same code twice!\n",
    "\n",
    "## Functional Pipelines\n",
    "### Summarization\n",
    "\n",
    "* Let's create a function that takes an argument for the data, and applies the summarization by neighborhood to calculate average tip and trip distance\n",
    "\n",
    "---\n",
    "\n"
   ]
  },
  {
   "cell_type": "code",
   "execution_count": null,
   "metadata": {
    "autoscroll": false,
    "collapsed": true
   },
   "outputs": [],
   "source": [
    "taxi_hood_sum <- function(taxi_data = taxi_df) {\n",
    "\n",
    "  mht_url <- \"http://alizaidi.blob.core.windows.net/training/manhattan.rds\"\n",
    "\n",
    "  manhattan_hoods <- readRDS(gzcon(url(mht_url)))\n",
    "  taxi_data %>%\n",
    "    filter(pickup_nhood %in% manhattan_hoods,\n",
    "           dropoff_nhood %in% manhattan_hoods) %>%\n",
    "    group_by(dropoff_nhood, pickup_nhood) %>%\n",
    "    summarize(ave_tip = mean(tip_pct),\n",
    "              ave_dist = mean(trip_distance)) %>%\n",
    "    filter(ave_dist > 3, ave_tip > 0.05) -> sum_df\n",
    "\n",
    "  return(sum_df)\n",
    "\n",
    "}\n",
    ""
   ]
  },
  {
   "cell_type": "markdown",
   "metadata": {},
   "source": [
    "\n",
    "## Functional Pipelines\n",
    "\n",
    "### Plotting Function\n",
    "\n",
    "* We can create a second function for the plot\n",
    "\n"
   ]
  },
  {
   "cell_type": "code",
   "execution_count": null,
   "metadata": {
    "autoscroll": false,
    "collapsed": true
   },
   "outputs": [],
   "source": [
    "tile_plot_hood <- function(df = taxi_hood_sum()) {\n",
    "\n",
    "  library(ggplot2)\n",
    "\n",
    "  ggplot(data = df, aes(x = pickup_nhood, y = dropoff_nhood)) +\n",
    "    geom_tile(aes(fill = ave_tip), colour = \"white\") +\n",
    "    theme_bw() +\n",
    "    theme(axis.text.x = element_text(angle = 45, hjust = 1),\n",
    "          legend.position = 'bottom') +\n",
    "    scale_fill_gradient(low = \"white\", high = \"steelblue\") -> gplot\n",
    "\n",
    "  return(gplot)\n",
    "}\n",
    ""
   ]
  },
  {
   "cell_type": "markdown",
   "metadata": {},
   "source": [
    "\n",
    "## Calling Our Pipeline\n",
    "\n",
    "* Now we can create our plot by simply calling our two functions\n",
    "\n"
   ]
  },
  {
   "cell_type": "code",
   "execution_count": null,
   "metadata": {
    "Rmd_chunk_options": "fig.height = 8, fig.width = 8, eval = FALSE",
    "autoscroll": false,
    "collapsed": true
   },
   "outputs": [],
   "source": [
    "library(plotly)\n",
    "taxi_hood_sum(taxi_df) %>% tile_plot_hood %>% ggplotly"
   ]
  },
  {
   "cell_type": "markdown",
   "metadata": {},
   "source": [
    "\n",
    "Let's make that baby interactive.\n",
    "\n",
    "## Creating Complex Pipelines with do\n",
    "\n",
    "* The `summarize` function is fun, can summarize many numeric/scalar quantities\n",
    "* But what if you want multiple values/rows back, not just a scalar summary?\n",
    "* Meet the `do` verb -- arbitrary `tbl` operations\n",
    "\n",
    "---\n",
    "\n"
   ]
  },
  {
   "cell_type": "code",
   "execution_count": null,
   "metadata": {
    "autoscroll": false,
    "collapsed": true
   },
   "outputs": [],
   "source": [
    "taxi_df %>% group_by(dropoff_dow) %>%\n",
    "  filter(!is.na(dropoff_nhood), !is.na(pickup_nhood)) %>%\n",
    "  arrange(desc(tip_pct)) %>%\n",
    "  do(slice(., 1:2)) %>%\n",
    "  select(dropoff_dow, tip_amount, tip_pct,\n",
    "         fare_amount, dropoff_nhood, pickup_nhood)"
   ]
  },
  {
   "cell_type": "markdown",
   "metadata": {},
   "source": [
    "\n",
    "Perhaps a more interesting example, we can calculate many quantiles quickly per a specific group:\n",
    "\n"
   ]
  },
  {
   "cell_type": "code",
   "execution_count": null,
   "metadata": {
    "Rmd_chunk_options": "tips_range",
    "autoscroll": false,
    "collapsed": true
   },
   "outputs": [],
   "source": [
    "library(tidyr)\n",
    "taxi_df %>% group_by(payment_type) %>%\n",
    "  do(p = data.frame(quantile(.$tip_amount,\n",
    "                             probs = c(0, 2.5, 5, 10, 25, 50, 75, 95, 97.5, 100)/100))) %>%\n",
    "  unnest(p) %>% rename_(quantiles = names(.)[2])"
   ]
  },
  {
   "cell_type": "markdown",
   "metadata": {},
   "source": [
    "\n",
    "\n",
    "## Estimating Multiple Models with do\n",
    "\n",
    "* A common use of `do` is to calculate many different models by a grouping variable\n",
    "\n"
   ]
  },
  {
   "cell_type": "code",
   "execution_count": null,
   "metadata": {
    "autoscroll": false,
    "collapsed": true
   },
   "outputs": [],
   "source": [
    "dow_lms <- taxi_df %>% sample_n(10^4) %>%\n",
    "  group_by(dropoff_dow) %>%\n",
    "  do(lm_tip = lm(tip_pct ~ pickup_nhood + passenger_count + pickup_hour,\n",
    "     data = .))"
   ]
  },
  {
   "cell_type": "markdown",
   "metadata": {},
   "source": [
    "\n",
    "Let's look at our results:\n",
    "\n"
   ]
  },
  {
   "cell_type": "code",
   "execution_count": null,
   "metadata": {
    "autoscroll": false,
    "collapsed": true
   },
   "outputs": [],
   "source": [
    "dow_lms %>% print"
   ]
  },
  {
   "cell_type": "markdown",
   "metadata": {},
   "source": [
    "\n",
    "\n",
    "Where are our results?\n",
    "![digging](http://i.giphy.com/oEnTTI3ZdK6ic.gif)\n",
    "\n",
    "## Cleaning Output\n",
    "\n"
   ]
  },
  {
   "cell_type": "code",
   "execution_count": null,
   "metadata": {
    "autoscroll": false,
    "collapsed": true
   },
   "outputs": [],
   "source": [
    "summary(dow_lms$lm_tip[[1]])\n",
    "library(broom)\n",
    "dow_lms %>% tidy(lm_tip) %>% print"
   ]
  },
  {
   "cell_type": "markdown",
   "metadata": {},
   "source": [
    "\n",
    "\n",
    "* By design, every function in `dplyr` returns a `data.frame`\n",
    "* In the example above, we get back a spooky `data.frame` with a column of `S3` `lm` objects\n",
    "* You can still modify each element as you would normally, or pass it to a `mutate` function to extract intercept or statistics\n",
    "* But there's also a very handy `broom` package for cleaning up such objects into `data.frames`\n",
    "\n",
    "## Brooming Up the Mess\n",
    "\n",
    "### Model Metrics\n"
   ]
  },
  {
   "cell_type": "code",
   "execution_count": null,
   "metadata": {
    "autoscroll": false,
    "collapsed": true
   },
   "outputs": [],
   "source": [
    "library(broom)\n",
    "taxi_df %>% sample_n(10^5) %>%\n",
    "  group_by(dropoff_dow) %>%\n",
    "  do(glance(lm(tip_pct ~ pickup_nhood + passenger_count + pickup_hour,\n",
    "     data = .))) %>% print\n",
    ""
   ]
  },
  {
   "cell_type": "markdown",
   "metadata": {},
   "source": [
    "\n",
    "### Model Coefficients\n",
    "\n",
    "The most commonly used function in the `broom` package is the `tidy` function. This will expand our data.frame and give us the model coefficients\n",
    "\n"
   ]
  },
  {
   "cell_type": "code",
   "execution_count": null,
   "metadata": {
    "autoscroll": false,
    "collapsed": true
   },
   "outputs": [],
   "source": [
    "taxi_df %>% sample_n(10^5) %>%\n",
    "  group_by(dropoff_dow) %>%\n",
    "  do(tidy(lm(tip_pct ~ pickup_nhood + passenger_count + pickup_hour,\n",
    "     data = .))) %>%\n",
    "  print"
   ]
  },
  {
   "cell_type": "markdown",
   "metadata": {},
   "source": [
    "\n",
    "\n",
    "## Spatial Visualizations with `ggplot2` and `purrr`\n",
    "\n",
    "### Visualizing Pickups by Time\n",
    "\n",
    "+ Let's try another example\n",
    "+ We will visualize pickups and index them by time\n",
    "\n",
    "\n"
   ]
  },
  {
   "cell_type": "code",
   "execution_count": null,
   "metadata": {
    "Rmd_chunk_options": "pickup-counts",
    "autoscroll": false,
    "collapsed": true
   },
   "outputs": [],
   "source": [
    "\n",
    "# min and max coordinates:\n",
    "min_lat <- 40.5774\n",
    "max_lat <- 40.9176\n",
    "min_long <- -74.15\n",
    "max_long <- -73.7004\n",
    "\n",
    "pickups <- taxi_df %>%\n",
    "  filter(pickup_longitude > min_long,\n",
    "         pickup_latitude < max_lat,\n",
    "         dropoff_longitude > min_long,\n",
    "         dropoff_latitude < max_lat) %>%\n",
    "  group_by(pickup_hour,\n",
    "           pickup_longitude,\n",
    "           pickup_latitude) %>%\n",
    "  summarise(num_pickups = n())\n",
    ""
   ]
  },
  {
   "cell_type": "markdown",
   "metadata": {},
   "source": [
    "\n",
    "## Load Additional Libraries\n",
    "\n"
   ]
  },
  {
   "cell_type": "code",
   "execution_count": null,
   "metadata": {
    "Rmd_chunk_options": "addtnl-libs",
    "autoscroll": false,
    "collapsed": true
   },
   "outputs": [],
   "source": [
    "\n",
    "library(purrr)\n",
    "library(lubridate)\n",
    "library(RColorBrewer)"
   ]
  },
  {
   "cell_type": "markdown",
   "metadata": {},
   "source": [
    "\n",
    "\n",
    "## Visualize Pickups\n",
    "\n",
    "### ggplot2 Theme\n",
    "\n",
    "+ `ggplot` will give very aesthetically appealing plots by default\n",
    "+ However, it really shines in it's ability to customize\n",
    "+ See the `ggthemes` for some template themes\n",
    "+ We'll use the theme below inspired from [Max Woolf's Tutorial on Visualizing this Dataset with ggplot2](http://minimaxir.com/2015/11/nyc-ggplot2-howto/)[^minimaxir]\n",
    "\n",
    "[^minimaxir]: Max Woolf has a number of great tutorials on this dataset, be sure to look at this [portfolio](http://minimaxir.com/portfolio/) for other gems!\n",
    "\n",
    "\n"
   ]
  },
  {
   "cell_type": "code",
   "execution_count": null,
   "metadata": {
    "Rmd_chunk_options": "ggtheme",
    "autoscroll": false,
    "collapsed": true
   },
   "outputs": [],
   "source": [
    "\n",
    "theme_map_dark <- function(palate_color = \"Greys\") {\n",
    "\n",
    "  palate <- brewer.pal(palate_color, n=9)\n",
    "  color.background = \"black\"\n",
    "  color.grid.minor = \"black\"\n",
    "  color.grid.major = \"black\"\n",
    "  color.axis.text = palate[1]\n",
    "  color.axis.title = palate[1]\n",
    "  color.title = palate[1]\n",
    "\n",
    "  font.title <- \"Source Sans Pro\"\n",
    "  font.axis <- \"Open Sans Condensed Bold\"\n",
    "\n",
    "  theme_bw(base_size=5) +\n",
    "    theme(panel.background=element_rect(fill=color.background, color=color.background)) +\n",
    "    theme(plot.background=element_rect(fill=color.background, color=color.background)) +\n",
    "    theme(panel.border=element_rect(color=color.background)) +\n",
    "    theme(panel.grid.major=element_blank()) +\n",
    "    theme(panel.grid.minor=element_blank()) +\n",
    "    theme(axis.ticks=element_blank()) +\n",
    "    theme(legend.background = element_rect(fill=color.background)) +\n",
    "    theme(legend.text = element_text(size=3,colour=color.axis.title,family=font.axis)) +\n",
    "    theme(legend.title = element_blank(), legend.position=\"top\", legend.direction=\"horizontal\") +\n",
    "    theme(legend.key.width=unit(1, \"cm\"), legend.key.height=unit(0.25, \"cm\"), legend.margin=unit(-0.5,\"cm\")) +\n",
    "    theme(plot.title=element_text(colour=color.title,family=font.title, size=14)) +\n",
    "    theme(plot.subtitle = element_text(colour=color.title,family=font.title, size=12)) +\n",
    "    theme(axis.text.x=element_blank()) +\n",
    "    theme(axis.text.y=element_blank()) +\n",
    "    theme(axis.title.y=element_blank()) +\n",
    "    theme(axis.title.x=element_blank()) +\n",
    "    theme(strip.background = element_rect(fill=color.background,\n",
    "                                          color=color.background),\n",
    "          strip.text=element_text(size=7,colour=color.axis.title,family=font.title))\n",
    "\n",
    "}\n",
    ""
   ]
  },
  {
   "cell_type": "markdown",
   "metadata": {},
   "source": [
    "\n",
    "## Plot Function\n",
    "\n",
    "### Complete the Function Below\n",
    "\n"
   ]
  },
  {
   "cell_type": "code",
   "execution_count": null,
   "metadata": {
    "Rmd_chunk_options": "map_nyc, eval = FALSE",
    "autoscroll": false,
    "collapsed": true
   },
   "outputs": [],
   "source": [
    "\n",
    "\n",
    "# x axis should be longitude\n",
    "# y axis should be latitude\n",
    "map_nyc <- function(df, pickup_hr) {\n",
    "\n",
    "  gplot <- ggplot(df,\n",
    "                  aes(x=pickup_longitude,\n",
    "                      y=pickup_latitude)) +\n",
    "    geom_point(color=\"white\", size=0.06) +\n",
    "    scale_x_continuous(limits=c(min_long, max_long)) +\n",
    "    scale_y_continuous(limits=c(min_lat, max_lat)) +\n",
    "    theme_map_dark() +\n",
    "    labs(title = \"Map of NYC Taxi Pickups\",\n",
    "         subtitle = paste0(\"Pickups between \", pickup_hr))\n",
    "\n",
    "  return(gplot)\n",
    "\n",
    "}\n",
    ""
   ]
  },
  {
   "cell_type": "markdown",
   "metadata": {},
   "source": [
    "\n",
    "## Iterate and Plot!\n",
    "### Now we can Iterate and Plot\n",
    "\n"
   ]
  },
  {
   "cell_type": "code",
   "execution_count": null,
   "metadata": {
    "Rmd_chunk_options": "purrr-map, eval = FALSE",
    "autoscroll": false,
    "collapsed": true
   },
   "outputs": [],
   "source": [
    "\n",
    "hour_plots <- ungroup(pickups) %>%\n",
    "  filter(num_pickups > 1) %>%\n",
    "  split(.$pickup_hour) %>%\n",
    "  map(~ map_nyc(.x, pickup_hr = .x$pickup_hour[1]))\n",
    "\n",
    "hour_plots\n",
    ""
   ]
  },
  {
   "cell_type": "markdown",
   "metadata": {},
   "source": [
    "\n",
    "### Save Plots and Turn into gif!\n",
    "\n",
    "Let's save the plots and convert them into a GIF.\n",
    "\n"
   ]
  },
  {
   "cell_type": "code",
   "execution_count": null,
   "metadata": {
    "Rmd_chunk_options": "ggsave",
    "autoscroll": false,
    "collapsed": true
   },
   "outputs": [],
   "source": [
    "\n",
    "if (!dir.exists(\"img/\")) dir.create(\"img/\")\n",
    "\n",
    "names(hour_plots) %>%\n",
    "  map(function(x) ggsave(filename = paste(\"./img/map_pickup_\", x,\n",
    "                               \".png\", sep =\"\"),\n",
    "                         plot = hour_plots[[x]]))\n",
    ""
   ]
  },
  {
   "cell_type": "markdown",
   "metadata": {},
   "source": [
    "\n",
    "Now that we have our images saved, let's read them and convert to a GIF:\n",
    "\n"
   ]
  },
  {
   "cell_type": "code",
   "execution_count": null,
   "metadata": {
    "Rmd_chunk_options": "imageread",
    "autoscroll": false,
    "collapsed": true
   },
   "outputs": [],
   "source": [
    "#\n",
    "library(magick)\n",
    "\n",
    "imgs <- list.files(\"img/\", full.names = TRUE)\n",
    "image_magicks <- imgs %>% map(~ image_read(.x))\n",
    "\n",
    "image_magicks\n",
    "\n",
    "## can't seem to unlist\n",
    "\n",
    "img1 <- image_read(imgs[3])\n",
    "img2 <- image_read(imgs[5])\n",
    "img3 <- image_read(imgs[7])\n",
    "img4 <- image_read(imgs[2])\n",
    "img5 <- image_read(imgs[4])\n",
    "img6 <- image_read(imgs[6])\n",
    "img7 <- image_read(imgs[1])\n",
    "\n",
    "img_c <- c(img1, img2, img3, img4, img5, img6, img7)\n",
    "#\n",
    "# image_animate(img_c, fps = 1)\n",
    ""
   ]
  },
  {
   "cell_type": "markdown",
   "metadata": {},
   "source": [
    "\n",
    "\n",
    "## Summary\n",
    "\n",
    "mutate\n",
    "\n",
    ":    Create transformations\n",
    "\n",
    "summarise\n",
    "\n",
    ":    Aggregate\n",
    "\n",
    "group_by\n",
    "\n",
    ":    Group your dataset by levels\n",
    "\n",
    "do\n",
    "\n",
    ":    Evaluate complex operations on a tbl\n",
    "\n",
    "Chaining with the `%>%` operator can result in more readable code.\n",
    "\n",
    "## What We Didn't Cover\n",
    "\n",
    "* There are many additional topics that fit well into the `dplyr` and functional programming landscape\n",
    "* There are too many to cover in one session. Fortunately, most are well documented. The most notable omissions:\n",
    "  1. Connecting to remote databases, see `vignette('databases', package = 'dplyr')`\n",
    "  2. Merging and Joins, see `vignette('two-table', package = 'dplyr')`\n",
    "  3. Programming with `dplyr`,`vignette('nse', package = 'dplyr')`\n",
    "  4. `summarize_each` and `mutate_each`\n",
    "\n",
    "## Thanks for Attending!\n",
    "\n",
    "- Any questions?\n"
   ]
  }
 ],
 "metadata": {
  "Rmd_header": {
   "author": "[Ali Zaidi, alizaidi@microsoft.com](mailto:alizaidi@microsoft.com)",
   "editor_options": {
    "chunk_output_type": "inline"
   },
   "output": {
    "html_document": {
     "keep_md": true,
     "toc": true,
     "toc_float": true
    },
    "html_notebook": {
     "toc": true,
     "toc_float": true
    },
    "ioslides_presentation": {
     "logo": "images/clark-logo.png",
     "smaller": true,
     "widescreen": true
    },
    "revealjs::revealjs_presentation": {
     "center": true,
     "css": "slides.css",
     "incremental": true,
     "previewLinks": true,
     "reveal_plugins": [
      "zoom",
      "notes"
     ],
     "self_contained": false,
     "slideNumber": true,
     "theme": "night",
     "viewDistance": 3
    }
   },
   "title": "Data Manipulation with `dplyr`"
  },
  "kernelspec": {
   "display_name": "R",
   "language": "R",
   "name": "ir"
  },
  "language_info": {
   "codemirror_mode": "r",
   "file_extension": ".r",
   "mimetype": "text/x-r-source",
   "name": "R",
   "pygments_lexer": "r"
  }
 },
 "nbformat": 4,
 "nbformat_minor": 0
}
