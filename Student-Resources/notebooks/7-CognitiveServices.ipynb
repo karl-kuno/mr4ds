{
 "cells": [
  {
   "cell_type": "markdown",
   "metadata": {},
   "source": [
    "\n",
    "## Cognitive Services\n",
    "\n",
    "The Microsoft Cognitive Services provide intelligent APIs that you can use directly against your own data to make your applications more intelligent. They offer a variety of services that can be used in a variety of domains, from vision, to text, and even recommeder systems.\n",
    "\n",
    "Rather than training your own large-scale machine learning model to make intellingent predictions, you can use these services.\n",
    "\n",
    "Sign up for a free account at the [Cognitive Services Website](https://www.microsoft.com/cognitive-services).\n",
    "\n",
    "\n"
   ]
  },
  {
   "cell_type": "code",
   "execution_count": null,
   "metadata": {
    "Rmd_chunk_options": "install-roxford",
    "autoscroll": false,
    "collapsed": true
   },
   "outputs": [],
   "source": [
    "\n",
    "# Project Oxford API ------------------------------------------------------\n",
    "\n",
    "if (!(\"Roxford\") %in% names(installed.packages()[,1])) devtools::install_github(\"flovv/Roxford\")\n",
    "library(Roxford)\n",
    "library(dplyr)\n",
    "library(tidyr)"
   ]
  },
  {
   "cell_type": "markdown",
   "metadata": {},
   "source": [
    "\n",
    "## The Face API\n",
    "\n",
    "Let's use the Face API against the following photograph:\n",
    "![](http://crooksandliars.com/files/primary_image/16/07/trump_angry.jpg)\n",
    "\n",
    "Find the _Face - Preview_ API and generate/copy your key. This will detect faces in an image, as well as the rectangle containing the face and some generated face attributes, such as age.\n",
    "\n"
   ]
  },
  {
   "cell_type": "code",
   "execution_count": null,
   "metadata": {
    "Rmd_chunk_options": "face-example",
    "autoscroll": false,
    "collapsed": true
   },
   "outputs": [],
   "source": [
    "\n",
    "pres_trump <- \"http://crooksandliars.com/files/primary_image/16/07/trump_angry.jpg\"\n",
    "face_key <- \"---------------\"\n",
    "face_trump <- getFaceResponseURL(pres_trump,\n",
    "                                 key = face_key)\n",
    "face_trump\n",
    "face_trump %>% select(contains(\"age\"), contains(\"gender\"))"
   ]
  },
  {
   "cell_type": "markdown",
   "metadata": {},
   "source": [
    "\n",
    "## Emotion API\n",
    "\n",
    "Copy the Emotion API key, and save it to a variable called `emotion_key`. The `getEmotionResponseURL` calculates scores/confidence of various emotions from the provided image. We can flatten the responses into a single column and then sort on the scores to see the most confident scores.\n",
    "\n"
   ]
  },
  {
   "cell_type": "code",
   "execution_count": null,
   "metadata": {
    "Rmd_chunk_options": "emotion-key",
    "autoscroll": false,
    "collapsed": true
   },
   "outputs": [],
   "source": [
    "\n",
    "emotion_key <- \"---------------\"\n",
    "\n",
    "trump_emotion <- getEmotionResponseURL(pres_trump,\n",
    "                      key = emotion_key)\n",
    "\n",
    "trump_emotion %>% select(contains(\"scores\")) %>%\n",
    "  gather(key = \"emotion\", value = \"scores\") %>%\n",
    "  arrange(desc(scores))"
   ]
  },
  {
   "cell_type": "markdown",
   "metadata": {},
   "source": [
    "\n",
    "## Vision API\n",
    "\n",
    "Copy the vision API key, and save it to a variable called `vision_key`. The vision API is more general, and allows us to do many things. For example, we can use tagging API to detect all the objects in an image. We can use the description API to tag all the objects and generate a caption/description of the image. The celebrities model is an example of a Domain Specific Models, which uses a recognition model to recognize from 200K celebrities from business, politics, sports and entertainment around the world. Domain-specific models is a continuously evolving feature within Computer Vision API.\n",
    "\n"
   ]
  },
  {
   "cell_type": "code",
   "execution_count": null,
   "metadata": {
    "Rmd_chunk_options": "vision-example",
    "autoscroll": false,
    "collapsed": true
   },
   "outputs": [],
   "source": [
    "\n",
    "vision_key <- \"---------------\"\n",
    "\n",
    "trump_tag <- getTaggingResponseURL(pres_trump,\n",
    "                      key = vision_key)\n",
    "\n",
    "trump_tag\n",
    "\n",
    "trump_description <- getDescriptionResponseURL(pres_trump,\n",
    "                          key = vision_key)\n",
    "\n",
    "trump_description[1, ]\n",
    "\n",
    "trump_celeb <- getDomainModelResponseURL(pres_trump,\n",
    "                          vision_key, 'celebrities')\n",
    "trump_celeb\n",
    ""
   ]
  },
  {
   "cell_type": "markdown",
   "metadata": {},
   "source": [
    "\n"
   ]
  }
 ],
 "metadata": {
  "Rmd_header": {
   "author": "Ali Zaidi",
   "title": "Getting Started with Cognitive Services APIs Using R"
  },
  "kernelspec": {
   "display_name": "R",
   "language": "R",
   "name": "ir"
  },
  "language_info": {
   "codemirror_mode": "r",
   "file_extension": ".r",
   "mimetype": "text/x-r-source",
   "name": "R",
   "pygments_lexer": "r"
  }
 },
 "nbformat": 4,
 "nbformat_minor": 0
}
