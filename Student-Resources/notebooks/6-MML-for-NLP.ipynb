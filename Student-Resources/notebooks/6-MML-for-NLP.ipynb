{
 "cells": [
  {
   "cell_type": "markdown",
   "metadata": {},
   "source": [
    "\n",
    "# MicrosoftML\n",
    "\n",
    "+ [MicrosoftML Package Homepage](aka.ms/MML)\n",
    "\n",
    "\n",
    "The `MicrosoftML` (or `MML` for short) package is a state-of-the-art package of machine learning algorithms developed by Microsoft's Algorithms Development team and Microsoft Research. It provides a suite of _transformers_ and _learners_ that make it easy to analyze high-dimensional datasets, such as those arising from text datasets.\n",
    "\n",
    "## Installation Instructions\n",
    "\n",
    "+ If you have corpnet access, review the installation instructions [here](https://microsoft.sharepoint.com/teams/TLC/_layouts/15/start.aspx#/SitePages/RML_Install.aspx).\n",
    "\n",
    "\n",
    "# Using MML\n",
    "\n",
    "The `MicrosoftML` package provides new, highly performant implementations of machine learning algorithms for classification, regression, and anamoly detection, that are especially well-equipped for handling large datasets. In addition to these fast learning algorithms (called _learners_), the `MML` package also provides _transformers_, for feature engineering. We outline the various learners and transformers in the following sections.\n",
    "\n",
    "## Transformers\n",
    "\n",
    "The _transformers_ in the `MML` package are labelled with the prefix `mt`.  These can be used inside any of the `mxTransforms` calls of the _learners_ we describe in the following section.\n",
    "\n",
    "We outline most of the transformers in the table below;\n",
    "\n",
    "\n",
    "_transformer_  | Use        | Additional Parameters |\n",
    " ------------  | :--------: | :-------: |\n",
    "`mtText`      | bag of counts of n-grams | `ngramLength` |\n",
    "`mtCat`       | create separate variables for each variable string | `maxNumTerms` |\n",
    "`mtCatHash` | same as `mtCat` but with hashing| `hashBits`|\n",
    "`mtWordBag` | bag of counts of n-grams | `ngramLength` |\n",
    "`mtWordHashBag` | same as `mtWordBag` but with hashing | `hashBits` |\n",
    "`mtConcat` | concatenation of multiple text columns into a single vector| none|\n",
    "\n",
    "\n",
    "The hash equivalents of the text transforms use hashing to create dictionaries rather than counting. Hashing is typically more performant because it does not require an initial pass over the data to determine the dictionary, and therefore can be more performant than `mtCat`, which could run out of memory because of huge dictionary size. However, caution must be taken in specifying the number of _hashBits_: if too small, collisions may occur; if too large, you may end up with lots of redundant features.\n",
    "\n",
    "## Learners\n",
    "\n",
    "In addition to the fast feature engineering functions listed in the table above, `MML` adds a number of new learning algorithms for regression, clasification and anamoly detection. The algorithms we'll take a look at today are listed in the table below, along with some of their important parameters:\n",
    "\n",
    "\n",
    "_learner_  | Use        | Additional Parameters |\n",
    " ------------  | :--------: | -----------: |\n",
    "`mxFastForest`      | fast random forest | `nTree` |\n",
    "`mxFastTree` | fast decision tree  | `numBins` |\n",
    "`mxLogisticReg` | elastic-net logistic regression | `l1Weight`, `l2Weight`  |\n",
    "`mxFastLinear` | SDCA linear binary classifer and regression | `l1Weight`, `l2Weight` |\n",
    "`mxNeuralNet` | classification and regression neural networks, with GPU acceleration | `acceleeration`, `numHiddenNodes`, `optimizer`|\n",
    "`mxOneClassSvm` | binary support vector machine | `kernel` |\n",
    "\n",
    "\n",
    "# Natural Language Processing with `MML`\n",
    "\n",
    "Let's take a look at using `MML` to estimate a model that would be very hard to do with `RevoScaleR`.\n",
    "\n",
    "In particular, there are virtually no functionality in `RevoScaleR` for handling large text data. We will use `MML` to transform text data into useful features that we can use in a logistic regression learner. In order to deal with the high cardinality of text data, we will use the penalized regression models in `MML`.\n",
    "\n",
    "## IMDB Data\n",
    "\n",
    "For this example, we will analyze IMDB movies reviews and the sentiment associated with the review. The data are available [here](http://ai.stanford.edu/~amaas/data/sentiment/).\n",
    "\n",
    "I've also saved the data on a public facing Azure Blob Container [here](http://alizaidi.blob.core.windows.net/training/aclImdb_v1.tar.gz).\n",
    "\n",
    "### Download Data\n",
    "\n",
    "\n"
   ]
  },
  {
   "cell_type": "code",
   "execution_count": null,
   "metadata": {
    "autoscroll": false,
    "collapsed": true
   },
   "outputs": [],
   "source": [
    "whoami <- system(\"whoami\", intern = TRUE)\n",
    "your_directory <- file.path(\"/datadrive\", whoami, \"imdb\")\n",
    "if (!(dir.exists(your_directory))) dir.create(your_directory, recursive = T)\n",
    "system(paste0(\"wget http://alizaidi.blob.core.windows.net/training/aclImdb_v1.tar.gz -O \",\n",
    "              your_directory, \"acl.tar.gz\"))\n",
    "system(paste0(\"tar -xvzf \", your_directory, \"acl.tar.gz \", \"-C \", file.path(\"/datadrive\", whoami)))"
   ]
  },
  {
   "cell_type": "markdown",
   "metadata": {},
   "source": [
    "\n",
    "\n",
    "\n",
    "The data are saved as separate text files per review, and are separated into train and test sets, and further by positive and negative sentiments:\n",
    "\n",
    "Data Hierarchy\n",
    "\n",
    "+ train\n",
    "    - pos\n",
    "    - neg\n",
    "+ test\n",
    "    - pos\n",
    "    - neg\n",
    "\n",
    "Let's use the `readLines` function in R to convert these datasets into R `data.frames`.\n",
    "\n"
   ]
  },
  {
   "cell_type": "code",
   "execution_count": null,
   "metadata": {
    "Rmd_chunk_options": "ingest",
    "autoscroll": false,
    "collapsed": true
   },
   "outputs": [],
   "source": [
    "\n",
    "library(MicrosoftML)\n",
    "\n",
    "# load imdb data ---\n",
    "\n",
    "cwd <- getwd()\n",
    "\n",
    "options(stringsAsFactors = FALSE)\n",
    "\n",
    "imdb_dir <- file.path(\"/datadrive\", whoami, \"aclImdb\")\n",
    "\n",
    "read_reviews <- function(path, sentiment) {\n",
    "\n",
    "  reviews <- lapply(path, readLines)\n",
    "  reviews <- as.vector(unlist(reviews))\n",
    "\n",
    "  reviews_df <- as.data.frame(matrix(reviews, ncol = 1))\n",
    "  reviews_df$sentiment <- sentiment\n",
    "\n",
    "  names(reviews_df)[1] <- 'review'\n",
    "\n",
    "  return(reviews_df)\n",
    "\n",
    "}\n",
    "\n",
    "setwd(imdb_dir)\n",
    "\n",
    "make_df <- function(path = \"train\") {\n",
    "\n",
    "  pos_files <- list.files(paste(path, \"pos\", sep = \"/\"), full.names = TRUE)\n",
    "  train_positive <- read_reviews(pos_files, 1)\n",
    "\n",
    "  neg_files <- list.files(paste(path, \"neg\", sep = \"/\"), full.names = TRUE)\n",
    "  train_negative <- read_reviews(neg_files, 0)\n",
    "\n",
    "  train_df <- rbind(train_positive, train_negative)\n",
    "\n",
    "}\n",
    "\n",
    "\n",
    "# training sets -----------------------------------------------------------\n",
    "\n",
    "train_df <- make_df(\"train\")\n",
    "\n",
    "\n",
    "\n",
    "# test sets ---------------------------------------------------------------\n",
    "\n",
    "test_df <- make_df(\"test\")\n",
    "\n",
    "setwd(cwd)\n",
    "\n",
    "head(train_df)\n",
    "table(train_df$sentiment)"
   ]
  },
  {
   "cell_type": "markdown",
   "metadata": {},
   "source": [
    "\n",
    "\n",
    "### Applying Transformers to Create Text Features\n",
    "\n",
    "Our compiled `data.frame` of IMDB data reviews looks rather simple. It is is a `data.frame` of two columns, one containing the raw review, and the second containing the sentiment binary variable: positive or negative.\n",
    "\n",
    "By itself, the raw text data source isn't a very helpful feature variable for predicting the sentiment value. However, we can create/engineer a large amount of feature variables using the text column.\n",
    "\n",
    "As a first pass, we might even consider using the text data source as a collection of words, and try to use each word individually as it's own column. This will be the union of all the words that appear in any review, so will yield a very high cardinality/dimensionality feature matrix with large sparsity (i.e., any given review will only contain a small subset of all the words in the reviews \"dictionary\").\n",
    "\n",
    "Next, we can use the `rxLogisticReg` function in MML. The `mxLogisticReg` function contains arguments for the hyperparameter weights for each of the penalty terms. Moreover, we will utilize a `mxTransforms` call to add a list of featurizers/transformers for engineering. While this feature engineering step might require multiple iterations and use cross-validation to pick the best choice, we will start with a text transformation and create _ngrams_ of length 3. This will create a _continguous_ collection of three words that can be then used as predictors. This is a simple method of thinking of possible interaction of words as possible predictors for our sentiment response.\n",
    "\n"
   ]
  },
  {
   "cell_type": "code",
   "execution_count": null,
   "metadata": {
    "Rmd_chunk_options": "logit",
    "autoscroll": false,
    "collapsed": true
   },
   "outputs": [],
   "source": [
    "\n",
    "library(MicrosoftML)\n",
    "library(dplyr)\n",
    "\n",
    "# if you want to use a sample\n",
    "# train_df <- train_df %>% sample_n(1000, replace = FALSE)\n",
    "\n",
    "system.time(logit_model <- rxLogisticRegression(sentiment ~ reviewTran,\n",
    "                              data = train_df,\n",
    "                              l1Weight = 0.05,\n",
    "                              l2Weight = 0.05,\n",
    "                              mlTransforms = list(featurizeText(vars = c(reviewTran = \"review\"),\n",
    "                                                         language = \"English\",\n",
    "                                                         stopwordsRemover = stopwordsDefault(),\n",
    "                                                         wordFeatureExtractor = ngramCount(3),\n",
    "                                                         keepPunctuations = FALSE)))\n",
    ")\n",
    "\n",
    "\n",
    "\n",
    "system.time(fast_linear <- rxFastTrees(sentiment ~ reviewTran,\n",
    "                              data = train_df,\n",
    "                              mlTransforms = list(featurizeText(vars = c(reviewTran = \"review\"),\n",
    "                                                         language = \"English\",\n",
    "                                                         stopwordsRemover = stopwordsDefault(),\n",
    "                                                         wordFeatureExtractor = ngramCount(3),\n",
    "                                                         keepPunctuations = FALSE)))\n",
    ")\n",
    ""
   ]
  },
  {
   "cell_type": "code",
   "execution_count": null,
   "metadata": {
    "autoscroll": false,
    "collapsed": true
   },
   "outputs": [],
   "source": [
    "\n",
    "logit_cof <- coefficients(logit_model)\n",
    "coefs <- data.frame(coef = logit_cof, word = names(logit_cof))\n",
    "coefs <- tbl_df(coefs)\n",
    "\n",
    "coefs <- coefs %>%\n",
    "  filter(word != \"(Bias)\") %>%\n",
    "  mutate(abs_value = abs(coef),\n",
    "         sentiment = ifelse(coef > 0, \"Positive\", \"Negative\"),\n",
    "         score = round(abs_value, 0)) %>%\n",
    "  arrange(desc(abs_value)) %>% slice(1:100)\n",
    "\n",
    "\n",
    "library(ggplot2)\n",
    "library(ggrepel)\n",
    "\n",
    "coefs %>%\n",
    "  ggplot +\n",
    "    aes(x = 1, y = 1, colour = sentiment, size = score, label = word) +\n",
    "    geom_text_repel(segment.size = 0, force = 10) +\n",
    "    scale_size(range = c(2, 15), guide = FALSE) +\n",
    "    scale_y_continuous(breaks = NULL) +\n",
    "    scale_x_continuous(breaks = NULL) +\n",
    "    labs(x = '', y = '') +\n",
    "    theme_classic() +\n",
    "    facet_wrap(~sentiment)\n",
    "\n",
    "\n",
    ""
   ]
  },
  {
   "cell_type": "markdown",
   "metadata": {},
   "source": [
    "\n",
    "\n",
    "### Visualizing wordclouds as d3 graphs\n",
    "\n",
    "We can redo the above visualization using a d3 library directly with R:\n",
    "\n"
   ]
  },
  {
   "cell_type": "code",
   "execution_count": null,
   "metadata": {
    "autoscroll": false,
    "collapsed": true
   },
   "outputs": [],
   "source": [
    "### d3wordcloud example\n",
    "\n",
    "library(purrr)\n",
    "library(d3wordcloud)\n",
    "\n",
    "coefs %>%\n",
    "  split(.$sentiment) %>%\n",
    "  map( ~ d3wordcloud(.$word, .$score, tooltip = TRUE)) -> d3_graphs\n",
    "\n",
    "d3_graphs[[1]]\n",
    "d3_graphs[[2]]\n",
    ""
   ]
  },
  {
   "cell_type": "markdown",
   "metadata": {},
   "source": [
    "\n",
    "\n",
    "### Testing the Logit Model\n",
    "\n",
    "In order to predict our classifer on test data, we will use the `mxPredict` function from the `MML` package.\n",
    "\n"
   ]
  },
  {
   "cell_type": "code",
   "execution_count": null,
   "metadata": {
    "Rmd_chunk_options": "scorelogit",
    "autoscroll": false,
    "collapsed": true
   },
   "outputs": [],
   "source": [
    "\n",
    "predictions <- rxPredict(logit_model, data = test_df, extraVarsToWrite = \"sentiment\")\n",
    "roc_results <- rxRoc(actualVarName = \"sentiment\", predVarNames = \"Probability.1\", data = predictions)\n",
    "roc_results$predVarName <- factor(roc_results$predVarName)\n",
    "plot(roc_results)\n",
    ""
   ]
  },
  {
   "cell_type": "markdown",
   "metadata": {},
   "source": [
    "\n",
    "### Testing the SDCA Model\n",
    "\n"
   ]
  },
  {
   "cell_type": "code",
   "execution_count": null,
   "metadata": {
    "Rmd_chunk_options": "score_sdca",
    "autoscroll": false,
    "collapsed": true
   },
   "outputs": [],
   "source": [
    "predictions <- rxPredict(fast_linear, data = test_df, extraVarsToWrite = \"sentiment\")\n",
    "roc_results <- rxRoc(actualVarName = \"sentiment\", predVarNames = \"Probability.1\", data = predictions)\n",
    "roc_results$predVarName <- factor(roc_results$predVarName)\n",
    "plot(roc_results)\n",
    "\n",
    ""
   ]
  },
  {
   "cell_type": "markdown",
   "metadata": {},
   "source": [
    "\n",
    "\n",
    "\n",
    "## Neural Networks\n",
    "\n",
    "Let's try to estimate another binary classifier from this dataset, but with a Neural Network architecture rather than a logistic regression model.\n",
    "\n",
    "In the following chunk, we call our neural  network model, and set the optimizer to be a stochastic gradient descent optimizer with a learning rate of 0.2. Furthermore, we use the `type` argument to ensure we are learning a binary classifier. By default our network architecture will have 100 hidden nodes.\n",
    "\n"
   ]
  },
  {
   "cell_type": "code",
   "execution_count": null,
   "metadata": {
    "Rmd_chunk_options": "nnex",
    "autoscroll": false,
    "collapsed": true
   },
   "outputs": [],
   "source": [
    "\n",
    "nn_sentiment <- rxNeuralNet(sentiment ~ reviewTran,\n",
    "                            data = train_df,\n",
    "                            type = \"binary\",\n",
    "                            mlTransforms = list(featurizeText(vars = c(reviewTran = \"review\"),\n",
    "                                                         language = \"English\",\n",
    "                                                         stopwordsRemover = stopwordsDefault(),\n",
    "                                                         keepPunctuations = FALSE)),\n",
    "                          # acceleration = \"gpu\",\n",
    "                          miniBatchSize = 4)\n",
    ""
   ]
  },
  {
   "cell_type": "markdown",
   "metadata": {},
   "source": [
    "\n",
    "### Scoring the Neural Net\n",
    "\n",
    "We can similary score our results from the neural network model\n",
    "\n"
   ]
  },
  {
   "cell_type": "code",
   "execution_count": null,
   "metadata": {
    "autoscroll": false,
    "collapsed": true
   },
   "outputs": [],
   "source": [
    "predictions <- rxPredict(nn_sentiment, data = test_df, extraVarsToWrite = \"sentiment\")\n",
    "roc_results <- rxRoc(actualVarName = \"sentiment\", predVarNames = \"Probability.1\", data = predictions)\n",
    "roc_results$predVarName <- factor(roc_results$predVarName)\n",
    "plot(roc_results)"
   ]
  },
  {
   "cell_type": "markdown",
   "metadata": {},
   "source": [
    "\n"
   ]
  }
 ],
 "metadata": {
  "Rmd_header": {
   "author": "Ali Zaidi",
   "output": {
    "html_document": {
     "keep_md": true,
     "self_contained": false,
     "toc": true,
     "toc_float": true
    }
   },
   "title": "Introduction to MicrosoftML: Scalable Machine Learning with R"
  },
  "kernelspec": {
   "display_name": "R",
   "language": "R",
   "name": "ir"
  },
  "language_info": {
   "codemirror_mode": "r",
   "file_extension": ".r",
   "mimetype": "text/x-r-source",
   "name": "R",
   "pygments_lexer": "r"
  }
 },
 "nbformat": 4,
 "nbformat_minor": 0
}
